{
 "cells": [
  {
   "cell_type": "markdown",
   "id": "d0aa07b8",
   "metadata": {},
   "source": [
    "**ΤΜΗΜΑ ΦΥΣΙΚΗΣ - ΑΡΙΣΤΟΤΕΛΕΙΟ ΠΑΝΕΠΙΣΤΗΜΙΟ ΘΕΣΣΑΛΟΝΙΚΗΣ**<br>\n",
    "**ΜΑΘΗΜΑ: Προβλήματα Κβαντικής Φυσικής [ΓΘΕ204]**<br>\n",
    "**ΑΚΑΔΗΜΑΪΚΟ ΕΤΟΣ: 2024-2025**\n",
    "\n",
    "**Εξεταστική Ιουνίου 2025**\n",
    "\n",
    "**Ημέρα εξέτασης: 17/6/2025**\n",
    "\n",
    "**Εργασία τελικής εξέτασης**:\n",
    "Να αποσταλλεί το συμπληρωμένο αρχείο την παραμονή της εξέτασης, **16/6/2025 μέχρι τις 12 το μεσημέρι**, στα email thdiakonidis@auth.gr, istergak@auth.gr \n",
    "\n",
    "Σε περίπτωση που εφαρμόσετε όλα τα αποτελέσματά σας σε μια κλάση έχετε bonus μια μονάδα."
   ]
  },
  {
   "cell_type": "markdown",
   "id": "1c4b67c7",
   "metadata": {},
   "source": [
    "# **ΕΡΓΑΣΙΑ ΤΕΛΙΚΗΣ ΕΞΕΤΑΣΗΣ:<br> Μελέτη του απειρόβαθου φρέατος δυναμικού με τη χρήση της `SymPy`**"
   ]
  },
  {
   "cell_type": "markdown",
   "id": "78b9374b",
   "metadata": {},
   "source": [
    "## Eισαγωγή\n",
    "\n",
    "**Στοιχεία θεωρίας**:\n",
    "1. ***σελ. 50-51, ΣΗΜΕΙΩΣΕΙΣ ΚΒΑΝΤΟΜΗΧΑΝΙΚΗΣ Ι - Σ.Η.ΜΑΣΕΝ***\n",
    "2. ***σελ. 231-233, Quantum Mechanics: Concepts and Applications - Nouredine Zettili***\n",
    "\n",
    "\n",
    "Σε αυτή την εργασία θα μελετήσετε την παρουσία ενός κβαντικού σωματιδίου μάζας $m$ εντός ενός φρέατος δυναμικού απείρου βάθους. Η μαθηματική έκφραση του δυναμικού για το ασσύμετρο φρέαρ σε μια διάσταση δίνεται παρακάτω:\n",
    "$$\\begin{matrix}\n",
    "V(x)=\n",
    "\\begin{cases}\n",
    "\\infty,& x<0 \\\\\n",
    "0,& 0<x<L \\\\\n",
    "\\infty,& x>L \n",
    "\\end{cases} & (1)\n",
    "\\end{matrix}\n",
    "$$\n",
    "\n",
    "Συνεπώς, στις περιοχές $x<0$ και $x>L$, όπου το δυναμικό απειρίζεται, η κυματοσυνάρτηση είναι μηδέν. Στο εσωτερικό όμως του φρέατος, δηλαδή στη περιοχή $0<x<L$, η κυματοσυνάρτηση είναι διαφορετική του μηδενός, έστω με χωρικό μέρος $u(x)$. Δηλαδή, συνολικά για το χωρικό μέρος της κυματοσυνάρτησης $ψ(x)$ του σωματιδίου, έχουμε:\n",
    "$$\\begin{matrix}\n",
    "ψ(x)=\n",
    "\\begin{cases}\n",
    "0,& x<0 \\\\\n",
    "u(x),& 0<x<L \\\\\n",
    "0,& x>L \n",
    "\\end{cases} & (2)\n",
    "\\end{matrix}\n",
    "$$ "
   ]
  },
  {
   "cell_type": "code",
   "execution_count": 302,
   "id": "b555841d",
   "metadata": {},
   "outputs": [],
   "source": [
    "import sympy as smp # Εδώ να εισάγετε τη βιβλιοθήκη SymPy"
   ]
  },
  {
   "cell_type": "markdown",
   "id": "2be3fe58",
   "metadata": {},
   "source": [
    "## Ερώτηση 1: Επίλυση διαφορικής εξίσωσης\n",
    "\n",
    "Η μορφή της $u(x)$ στη σχέση $(2)$ προκύπτει από την επίλυση της εξίσωσης του *Scrodinger* (διαφορικής εξίσωση 2ης τάξης):\n",
    "$$\\begin{matrix}\n",
    "u^{''}(x)+k^2_0u(x)=0, & k^2_0=\\frac{2mE}{\\hbar^2} & (3)\n",
    "\\end{matrix}$$\n",
    "με κατάλληλες συνοριακές συνθήκες και $Ε>0$.\n",
    "\n",
    "Με τη χρήση της `SymPy` να λύσετε την διαφορική εξίσωση των σχέσεων $(3)$ για $k_0>0$:<br>\n",
    "**α)** Χωρίς αρχικές συνθήκες<br>\n",
    "**β)** Με τη χρήση της αρχικής συνθήκης: $u(0)=0$ (πρώτη από τις δύο οριακές συνθήκες)<br>\n",
    "**γ)** Προκύπτουν οι ίδιες λύσεις για $k_0<0$; Εξηγήστε."
   ]
  },
  {
   "cell_type": "markdown",
   "id": "7886af4d",
   "metadata": {},
   "source": [
    "## Ερώτηση 2: Κανονικοποίηση και επαλήθευση\n",
    "\n",
    "Εφόσον η διαφορική εξίσωση της $(3)$ έχει λυθεί σωστά με την συνθήκη $u(0)=0$, η $u(x)$ προκύπτει ίση με:\n",
    "$$\\begin{matrix}\n",
    "u(x) = B sin(k_0x) & (4)\n",
    "\\end{matrix}$$\n",
    "\n",
    "Θα χρησιμοποιήσετε τώρα τη δεύτερη οριακή συνθήκη $u(L)=0$:\n",
    "\n",
    "**α)** Να ορίσετε τη κυματοσυνάρτηση $u$ ως συνάρτηση των $x,B,k_0$ με συμβολικό τύπο σύμφωνα με τη σχέση $(4)$. Να λύσετε την εξίσωση: $u(L)=0$, για $Β\\neq0$, ως προς την μεταβλητή $k_0$. Ποια είναι η πιο κατάλληλη εντολή επίλυσης στην προκειμένη περίπτωση: `solve` ή `solveset`; Εξηγήστε.\n",
    "\n",
    "**β)** Η σωστή επίλυση της εξίσωσης $u(L)=0$, δίνει $k_0=\\frac{n\\pi}{L}$. Επομένως, η κυματοσυνάρτηση $u$ μπορεί να ξαναοριστεί ως συνάρτηση $u_n$ των $x,B,n,L$, ενώ η αντίστοιχη ενεργειακή στάθμη μπορεί πλέον να οριστεί ως συνάρτηση $E_n$ των $n,L,m$. Πραγματοποιήστε σωστά τους παραπάνω ορισμούς και εκτυπώστε την γενική μορφή της κυματοσυνάρτησης $u_n$, καθώς και της αντίστοιχης ενεργειακής στάθμης $Ε_n$.\n",
    "\n",
    "**γ)** Στους προηγούμενους ορισμούς η κυματοσυνάρτηση $u_n$ δεν είναι κανονικοποιημένη. Η σωστή κανονικοποίηση της $u_n$ απαιτεί να ισχύει η συνθήκη:\n",
    "$$\\begin{matrix}\n",
    "I=\\int^L_0|u_n(x)|^2dx=1 & (5)\n",
    "\\end{matrix}$$\n",
    "για οποιαδήποτε τιμή των $n,L$. Φτιάξτε μια διαδικασία (function) της *Python* στην οποία να αποδεικνύετε ότι η αυθαίρετη σταθερά κανονικοποίσης $B$, προκύπτει να είναι ίση με: \n",
    "$$\\begin{matrix}\n",
    "B=\\pm\\sqrt{2/L} & (6)\n",
    "\\end{matrix}$$\n",
    "για οποιαδήποτε τιμή του κβαντικού αριθμού $n$.\n",
    "\n",
    "**δ)** Πλέον, η σωστά κανονικοποιημένη κυματοσυνάρτηση $u_n$ μπορεί να οριστεί μόνο ως συνάρτηση των $x,n,L$, χρησιμοποιώντας μια εκ των δύο τιμών της σχέσης (6). Αφού ορίσετε σωστά την κανονικοποιημένη $u_n$, να εκτυπώσετε την μορφή της $u_n$ και της αντίστοιχης ενεργειακής στάθμης $E_n$ για τις εξής τιμές του κβαντικού αριθμού $n:1,2,3,4$. Nα αποδείξετε, επίσης, ότι οι κυματοσυναρτήσεις $u_n$ αποτελούν ορθοκανονική βάση."
   ]
  },
  {
   "cell_type": "markdown",
   "id": "b98e1f0c-65ab-43b1-abe2-dd70f0800a6b",
   "metadata": {},
   "source": [
    "## ΕΡΩΤΗΣΗ 1"
   ]
  },
  {
   "cell_type": "code",
   "execution_count": 307,
   "id": "480fe418-0c84-4a8d-b7ad-6f894c90a7b3",
   "metadata": {},
   "outputs": [
    {
     "data": {
      "text/latex": [
       "$\\displaystyle x$"
      ],
      "text/plain": [
       "x"
      ]
     },
     "metadata": {},
     "output_type": "display_data"
    },
    {
     "data": {
      "text/latex": [
       "$\\displaystyle L$"
      ],
      "text/plain": [
       "L"
      ]
     },
     "metadata": {},
     "output_type": "display_data"
    },
    {
     "data": {
      "text/latex": [
       "$\\displaystyle \\hbar$"
      ],
      "text/plain": [
       "hbar"
      ]
     },
     "metadata": {},
     "output_type": "display_data"
    },
    {
     "data": {
      "text/latex": [
       "$\\displaystyle m$"
      ],
      "text/plain": [
       "m"
      ]
     },
     "metadata": {},
     "output_type": "display_data"
    }
   ],
   "source": [
    "x , L    = smp.symbols(\"x,L,\" , real = True , positive =True)\n",
    "hbar , m = smp.symbols(\"hbar,m\" , real = True , positive =True)\n",
    "display(x , L )\n",
    "display(hbar , m)"
   ]
  },
  {
   "cell_type": "code",
   "execution_count": 309,
   "id": "ddc310c4-493f-401d-99fb-40ee2e22a2ce",
   "metadata": {},
   "outputs": [],
   "source": [
    "#εύρεση της u(x) χωρις αρχικές συνθήκες με k0 >0 \n",
    "u = smp.Function(\"u\")\n",
    "k0 = smp.symbols(\"k0\", real = True, positive = True )\n",
    "def wf(x) :\n",
    "    deq = smp.Eq(u(x).diff(x,2) + k0**2 * u(x) , 0)\n",
    "    dsol = smp.dsolve(deq,u(x))\n",
    "    return dsol"
   ]
  },
  {
   "cell_type": "code",
   "execution_count": 311,
   "id": "8a64c742-79ac-4859-b500-7ccd084e2994",
   "metadata": {},
   "outputs": [
    {
     "data": {
      "text/latex": [
       "$\\displaystyle u{\\left(x \\right)} = C_{1} \\sin{\\left(k_{0} x \\right)} + C_{2} \\cos{\\left(k_{0} x \\right)}$"
      ],
      "text/plain": [
       "Eq(u(x), C1*sin(k0*x) + C2*cos(k0*x))"
      ]
     },
     "metadata": {},
     "output_type": "display_data"
    }
   ],
   "source": [
    "display(wf(x))"
   ]
  },
  {
   "cell_type": "code",
   "execution_count": 313,
   "id": "0475df88-5e3b-42b1-a9da-7ed787244592",
   "metadata": {},
   "outputs": [],
   "source": [
    "#ευρεση της u(x) με αρχική συνθήκη u(0) = 0 \n",
    "def wf_0 (x):\n",
    "    deq = smp.Eq(u(x).diff(x,2) + k0**2 * u(x) , 0)\n",
    "    dsol_0 = smp.dsolve(deq,u(x),ics={u(0):0})\n",
    "    return dsol_0"
   ]
  },
  {
   "cell_type": "code",
   "execution_count": 315,
   "id": "75a1fff6-5b47-4040-900d-3a253e16f749",
   "metadata": {},
   "outputs": [
    {
     "data": {
      "text/latex": [
       "$\\displaystyle u{\\left(x \\right)} = C_{1} \\sin{\\left(k_{0} x \\right)}$"
      ],
      "text/plain": [
       "Eq(u(x), C1*sin(k0*x))"
      ]
     },
     "metadata": {},
     "output_type": "display_data"
    }
   ],
   "source": [
    "display(wf_0(x))"
   ]
  },
  {
   "cell_type": "code",
   "execution_count": 317,
   "id": "c302c40c-e7d1-489d-a9e9-f2582c4136b0",
   "metadata": {},
   "outputs": [],
   "source": [
    "# εύρεση της u(x) με k0<0\n",
    "def wf_k0_negative (x) :\n",
    "    k0 = smp.symbols(\"k0\", real = True, negative = True )\n",
    "    deq = smp.Eq(u(x).diff(x,2) + k0**2 * u(x) , 0)\n",
    "    dsol_neg = smp.dsolve(deq,u(x))\n",
    "    return dsol_neg"
   ]
  },
  {
   "cell_type": "code",
   "execution_count": 319,
   "id": "47207f8b-aa6e-4b30-ab32-21909b589c1f",
   "metadata": {},
   "outputs": [
    {
     "data": {
      "text/latex": [
       "$\\displaystyle u{\\left(x \\right)} = C_{1} \\sin{\\left(k_{0} x \\right)} + C_{2} \\cos{\\left(k_{0} x \\right)}$"
      ],
      "text/plain": [
       "Eq(u(x), C1*sin(k0*x) + C2*cos(k0*x))"
      ]
     },
     "metadata": {},
     "output_type": "display_data"
    }
   ],
   "source": [
    "display(wf_k0_negative(x))"
   ]
  },
  {
   "cell_type": "code",
   "execution_count": 321,
   "id": "a7ad13c0-c191-4981-bbd2-c983aeefec82",
   "metadata": {},
   "outputs": [],
   "source": [
    "# εύρεση της u(x) με k0<0 και με αρχική συνθήκη u(0)=0\n",
    "def wf_k0_neg_ics(x):\n",
    "    k0 = smp.symbols(\"k0\", real = True, negative = True )\n",
    "    deq = smp.Eq(u(x).diff(x,2) + k0**2 * u(x) , 0)\n",
    "    dsol_0_neg = smp.dsolve(deq,u(x),ics={u(0):0})\n",
    "    return dsol_0_neg"
   ]
  },
  {
   "cell_type": "code",
   "execution_count": 323,
   "id": "bd5f7837-b18b-4369-a434-5d3d2c00b29f",
   "metadata": {},
   "outputs": [
    {
     "data": {
      "text/latex": [
       "$\\displaystyle u{\\left(x \\right)} = C_{1} \\sin{\\left(k_{0} x \\right)}$"
      ],
      "text/plain": [
       "Eq(u(x), C1*sin(k0*x))"
      ]
     },
     "metadata": {},
     "output_type": "display_data"
    }
   ],
   "source": [
    "display(wf_k0_neg_ics(x))"
   ]
  },
  {
   "cell_type": "markdown",
   "id": "11787caf-67bb-4e4e-8cbd-d109c7462dc8",
   "metadata": {},
   "source": [
    "Παρατηρούμαι ότι αλλαγή του k0 σε k0<0 δεν επέφερε καμία αλλαγή στα αποτελέσματα. Στην πραγματικότητα προκύπτει ενα μείον (γιατί το sin() είναι περιττή συνάρτηση) το οποίο απορροφήθηκε από την σταθερά C1! "
   ]
  },
  {
   "cell_type": "markdown",
   "id": "133c6c13-a7d0-4609-b311-d866fdf09e0a",
   "metadata": {},
   "source": [
    "## ΕΡΩΤΗΣΗ 2"
   ]
  },
  {
   "cell_type": "code",
   "execution_count": 327,
   "id": "94095fa4-5e72-4781-b2ec-712aaddc4139",
   "metadata": {},
   "outputs": [
    {
     "data": {
      "text/latex": [
       "$\\displaystyle u(x) = B \\sin{\\left(k_{0} x \\right)}$"
      ],
      "text/plain": [
       "Eq(u(x), B*sin(k0*x))"
      ]
     },
     "metadata": {},
     "output_type": "display_data"
    }
   ],
   "source": [
    "B = smp.symbols(\"B\",real= True, nonzero = True)\n",
    "u_x = B * smp.sin(k0 * x)\n",
    "display(smp.Eq(smp.symbols(\"u(x)\"),u_x))"
   ]
  },
  {
   "cell_type": "code",
   "execution_count": 329,
   "id": "9702c484-8b6a-4f7f-8e0a-a4b4dce7ea79",
   "metadata": {},
   "outputs": [
    {
     "data": {
      "text/plain": [
       "[pi/L]"
      ]
     },
     "metadata": {},
     "output_type": "display_data"
    }
   ],
   "source": [
    "k0_n1 = smp.solve(u_x.subs(x,L),k0)\n",
    "display(k0_n1)"
   ]
  },
  {
   "cell_type": "code",
   "execution_count": 331,
   "id": "ba1dd23e-d63b-40da-8c0e-158d327a482c",
   "metadata": {},
   "outputs": [
    {
     "data": {
      "text/latex": [
       "$\\displaystyle \\left\\{\\frac{2 n \\pi}{L}\\; \\middle|\\; n \\in \\mathbb{Z}\\right\\} \\cup \\left\\{\\frac{2 n \\pi + \\pi}{L}\\; \\middle|\\; n \\in \\mathbb{Z}\\right\\}$"
      ],
      "text/plain": [
       "Union(ImageSet(Lambda(_n, (2*_n*pi + pi)/L), Integers), ImageSet(Lambda(_n, 2*_n*pi/L), Integers))"
      ]
     },
     "metadata": {},
     "output_type": "display_data"
    }
   ],
   "source": [
    "k0 = smp.symbols(\"k0\", real = True, positive = True )\n",
    "k0_n = smp.solveset(u_x.subs(x,L),k0)\n",
    "display(k0_n)"
   ]
  },
  {
   "cell_type": "markdown",
   "id": "5aa8abdd-c08d-4d3f-979b-031dd8447df3",
   "metadata": {},
   "source": [
    "Η solve δίνει μόνο ενα περιορισμένο αριθμό λύσεων (εδώ έδωσε μόνο την πρώτη!) , ενώ η solveset δίνει απειρες λύσεις εισάγοντας το n. Για αυτό τον λόγο πιο κατάλληλη είναι η solveset."
   ]
  },
  {
   "cell_type": "code",
   "execution_count": 334,
   "id": "43ac2ef3-0a33-4455-93bd-ea72e2233191",
   "metadata": {},
   "outputs": [
    {
     "data": {
      "text/latex": [
       "$\\displaystyle k_{n} = \\frac{2 \\pi n}{L}$"
      ],
      "text/plain": [
       "Eq(k_n, 2*pi*n/L)"
      ]
     },
     "metadata": {},
     "output_type": "display_data"
    },
    {
     "data": {
      "text/latex": [
       "$\\displaystyle u(x)_{n} = B \\sin{\\left(\\frac{2 \\pi n x}{L} \\right)}$"
      ],
      "text/plain": [
       "Eq(u(x)_n, B*sin(2*pi*n*x/L))"
      ]
     },
     "metadata": {},
     "output_type": "display_data"
    }
   ],
   "source": [
    "n = smp.symbols(\"n\",integer = True , positive = True)\n",
    "k0_n = 2*smp.pi*n/L\n",
    "display(smp.Eq(smp.symbols(\"k_n\"),k0_n))\n",
    "u_x_n = u_x.subs(k0,k0_n)\n",
    "display(smp.Eq(smp.symbols(\"u(x)_n\"), u_x_n))"
   ]
  },
  {
   "cell_type": "code",
   "execution_count": 336,
   "id": "fc05c443-8f7c-44cb-b00e-9947550c55a3",
   "metadata": {},
   "outputs": [
    {
     "data": {
      "text/latex": [
       "$\\displaystyle E_{n} = \\frac{2 \\pi^{2} \\hbar^{2} n^{2}}{L^{2} m}$"
      ],
      "text/plain": [
       "Eq(E_n, 2*pi**2*hbar**2*n**2/(L**2*m))"
      ]
     },
     "metadata": {},
     "output_type": "display_data"
    }
   ],
   "source": [
    "E_n = (k0_n**2 * hbar**2)/(2*m)\n",
    "display(smp.Eq(smp.symbols(\"E_n\"),E_n))"
   ]
  },
  {
   "cell_type": "code",
   "execution_count": 338,
   "id": "f06514ff-c42f-45bb-8048-d2245f74f17d",
   "metadata": {},
   "outputs": [
    {
     "data": {
      "text/latex": [
       "$\\displaystyle I = \\frac{B^{2} L}{2}$"
      ],
      "text/plain": [
       "Eq(I, B**2*L/2)"
      ]
     },
     "metadata": {},
     "output_type": "display_data"
    }
   ],
   "source": [
    "I = smp.integrate(u_x_n**2,(x,0,L))\n",
    "display(smp.Eq(smp.symbols(\"I\"),I))"
   ]
  },
  {
   "cell_type": "code",
   "execution_count": 340,
   "id": "026049f0-4bed-4810-bd83-51f2ab58d898",
   "metadata": {},
   "outputs": [
    {
     "data": {
      "text/plain": [
       "[-sqrt(2)/sqrt(L), sqrt(2)/sqrt(L)]"
      ]
     },
     "metadata": {},
     "output_type": "display_data"
    }
   ],
   "source": [
    "Bsol = smp.solve(smp.Eq(I,1),B)\n",
    "display(Bsol)"
   ]
  },
  {
   "cell_type": "code",
   "execution_count": 342,
   "id": "a80b91cf-fc26-41ab-8cfb-3612c6a653eb",
   "metadata": {},
   "outputs": [
    {
     "data": {
      "text/latex": [
       "$\\displaystyle u(x)_{n} = \\frac{\\sqrt{2} \\sin{\\left(\\frac{2 \\pi n x}{L} \\right)}}{\\sqrt{L}}$"
      ],
      "text/plain": [
       "Eq(u(x)_n, sqrt(2)*sin(2*pi*n*x/L)/sqrt(L))"
      ]
     },
     "metadata": {},
     "output_type": "display_data"
    }
   ],
   "source": [
    "# θα επιλέξω την θετική λύση του Β (μπορούσα να τη θέσω κατευθείαν χωρίς την εντολή Abs\n",
    "Bsol = smp.Abs(smp.sqrt(2/L))\n",
    "u_x_n_normalized = u_x_n.subs(B,Bsol)\n",
    "display(smp.Eq(smp.symbols(\"u(x)_n\"),u_x_n_normalized))"
   ]
  },
  {
   "cell_type": "code",
   "execution_count": 344,
   "id": "2ba71e9b-a76a-426f-b3dc-ac5d795a09cc",
   "metadata": {},
   "outputs": [
    {
     "data": {
      "text/latex": [
       "$\\displaystyle u(x)_{1} = \\frac{\\sqrt{2} \\sin{\\left(\\frac{2 \\pi x}{L} \\right)}}{\\sqrt{L}}$"
      ],
      "text/plain": [
       "Eq(u(x)_1, sqrt(2)*sin(2*pi*x/L)/sqrt(L))"
      ]
     },
     "metadata": {},
     "output_type": "display_data"
    },
    {
     "data": {
      "text/latex": [
       "$\\displaystyle E_{1} = \\frac{2 \\pi^{2} \\hbar^{2}}{L^{2} m}$"
      ],
      "text/plain": [
       "Eq(E_1, 2*pi**2*hbar**2/(L**2*m))"
      ]
     },
     "metadata": {},
     "output_type": "display_data"
    },
    {
     "data": {
      "text/latex": [
       "$\\displaystyle u(x)_{2} = \\frac{\\sqrt{2} \\sin{\\left(\\frac{4 \\pi x}{L} \\right)}}{\\sqrt{L}}$"
      ],
      "text/plain": [
       "Eq(u(x)_2, sqrt(2)*sin(4*pi*x/L)/sqrt(L))"
      ]
     },
     "metadata": {},
     "output_type": "display_data"
    },
    {
     "data": {
      "text/latex": [
       "$\\displaystyle E_{2} = \\frac{8 \\pi^{2} \\hbar^{2}}{L^{2} m}$"
      ],
      "text/plain": [
       "Eq(E_2, 8*pi**2*hbar**2/(L**2*m))"
      ]
     },
     "metadata": {},
     "output_type": "display_data"
    },
    {
     "data": {
      "text/latex": [
       "$\\displaystyle u(x)_{3} = \\frac{\\sqrt{2} \\sin{\\left(\\frac{6 \\pi x}{L} \\right)}}{\\sqrt{L}}$"
      ],
      "text/plain": [
       "Eq(u(x)_3, sqrt(2)*sin(6*pi*x/L)/sqrt(L))"
      ]
     },
     "metadata": {},
     "output_type": "display_data"
    },
    {
     "data": {
      "text/latex": [
       "$\\displaystyle E_{3} = \\frac{18 \\pi^{2} \\hbar^{2}}{L^{2} m}$"
      ],
      "text/plain": [
       "Eq(E_3, 18*pi**2*hbar**2/(L**2*m))"
      ]
     },
     "metadata": {},
     "output_type": "display_data"
    },
    {
     "data": {
      "text/latex": [
       "$\\displaystyle u(x)_{4} = \\frac{\\sqrt{2} \\sin{\\left(\\frac{8 \\pi x}{L} \\right)}}{\\sqrt{L}}$"
      ],
      "text/plain": [
       "Eq(u(x)_4, sqrt(2)*sin(8*pi*x/L)/sqrt(L))"
      ]
     },
     "metadata": {},
     "output_type": "display_data"
    },
    {
     "data": {
      "text/latex": [
       "$\\displaystyle E_{4} = \\frac{32 \\pi^{2} \\hbar^{2}}{L^{2} m}$"
      ],
      "text/plain": [
       "Eq(E_4, 32*pi**2*hbar**2/(L**2*m))"
      ]
     },
     "metadata": {},
     "output_type": "display_data"
    }
   ],
   "source": [
    "# εύρεση των E_n, u(x)_n για n = 1 , 2, 3 ,4 \n",
    "for i in range (1,5):\n",
    "    u_i = u_x_n_normalized.subs(n,i)\n",
    "    E_i = E_n.subs(n,i)\n",
    "    display(smp.Eq(smp.symbols(f\"u(x)_{i}\"),u_i))\n",
    "    display(smp.Eq(smp.symbols(f\"E_{i}\"),E_i))\n",
    "# το f είναι ένα string με το οποίο γίνεται να αντικαθιστά το i με τον ανάλογο αριθμό μέσα στη for "
   ]
  },
  {
   "cell_type": "code",
   "execution_count": 346,
   "id": "98d0088a-d475-4db3-b5b0-12d47fe87b8e",
   "metadata": {},
   "outputs": [
    {
     "data": {
      "text/latex": [
       "$\\displaystyle 1$"
      ],
      "text/plain": [
       "1"
      ]
     },
     "metadata": {},
     "output_type": "display_data"
    }
   ],
   "source": [
    "# έλεγχος ορθογωνιότητας\n",
    "I_n = smp.integrate(u_x_n_normalized**2,(x,0,L))\n",
    "display(I_n)"
   ]
  },
  {
   "cell_type": "code",
   "execution_count": 348,
   "id": "f949c691-f78b-4f94-b0d0-1c336f9e16be",
   "metadata": {},
   "outputs": [
    {
     "data": {
      "text/latex": [
       "$\\displaystyle <u_{1|u 1>} = 1$"
      ],
      "text/plain": [
       "Eq(<u_1|u_1>, 1)"
      ]
     },
     "metadata": {},
     "output_type": "display_data"
    },
    {
     "data": {
      "text/latex": [
       "$\\displaystyle <u_{1|u 2>} = 0$"
      ],
      "text/plain": [
       "Eq(<u_1|u_2>, 0)"
      ]
     },
     "metadata": {},
     "output_type": "display_data"
    },
    {
     "data": {
      "text/latex": [
       "$\\displaystyle <u_{1|u 3>} = 0$"
      ],
      "text/plain": [
       "Eq(<u_1|u_3>, 0)"
      ]
     },
     "metadata": {},
     "output_type": "display_data"
    },
    {
     "data": {
      "text/latex": [
       "$\\displaystyle <u_{1|u 4>} = 0$"
      ],
      "text/plain": [
       "Eq(<u_1|u_4>, 0)"
      ]
     },
     "metadata": {},
     "output_type": "display_data"
    },
    {
     "data": {
      "text/latex": [
       "$\\displaystyle <u_{2|u 1>} = 0$"
      ],
      "text/plain": [
       "Eq(<u_2|u_1>, 0)"
      ]
     },
     "metadata": {},
     "output_type": "display_data"
    },
    {
     "data": {
      "text/latex": [
       "$\\displaystyle <u_{2|u 2>} = 1$"
      ],
      "text/plain": [
       "Eq(<u_2|u_2>, 1)"
      ]
     },
     "metadata": {},
     "output_type": "display_data"
    },
    {
     "data": {
      "text/latex": [
       "$\\displaystyle <u_{2|u 3>} = 0$"
      ],
      "text/plain": [
       "Eq(<u_2|u_3>, 0)"
      ]
     },
     "metadata": {},
     "output_type": "display_data"
    },
    {
     "data": {
      "text/latex": [
       "$\\displaystyle <u_{2|u 4>} = 0$"
      ],
      "text/plain": [
       "Eq(<u_2|u_4>, 0)"
      ]
     },
     "metadata": {},
     "output_type": "display_data"
    },
    {
     "data": {
      "text/latex": [
       "$\\displaystyle <u_{3|u 1>} = 0$"
      ],
      "text/plain": [
       "Eq(<u_3|u_1>, 0)"
      ]
     },
     "metadata": {},
     "output_type": "display_data"
    },
    {
     "data": {
      "text/latex": [
       "$\\displaystyle <u_{3|u 2>} = 0$"
      ],
      "text/plain": [
       "Eq(<u_3|u_2>, 0)"
      ]
     },
     "metadata": {},
     "output_type": "display_data"
    },
    {
     "data": {
      "text/latex": [
       "$\\displaystyle <u_{3|u 3>} = 1$"
      ],
      "text/plain": [
       "Eq(<u_3|u_3>, 1)"
      ]
     },
     "metadata": {},
     "output_type": "display_data"
    },
    {
     "data": {
      "text/latex": [
       "$\\displaystyle <u_{3|u 4>} = 0$"
      ],
      "text/plain": [
       "Eq(<u_3|u_4>, 0)"
      ]
     },
     "metadata": {},
     "output_type": "display_data"
    },
    {
     "data": {
      "text/latex": [
       "$\\displaystyle <u_{4|u 1>} = 0$"
      ],
      "text/plain": [
       "Eq(<u_4|u_1>, 0)"
      ]
     },
     "metadata": {},
     "output_type": "display_data"
    },
    {
     "data": {
      "text/latex": [
       "$\\displaystyle <u_{4|u 2>} = 0$"
      ],
      "text/plain": [
       "Eq(<u_4|u_2>, 0)"
      ]
     },
     "metadata": {},
     "output_type": "display_data"
    },
    {
     "data": {
      "text/latex": [
       "$\\displaystyle <u_{4|u 3>} = 0$"
      ],
      "text/plain": [
       "Eq(<u_4|u_3>, 0)"
      ]
     },
     "metadata": {},
     "output_type": "display_data"
    },
    {
     "data": {
      "text/latex": [
       "$\\displaystyle <u_{4|u 4>} = 1$"
      ],
      "text/plain": [
       "Eq(<u_4|u_4>, 1)"
      ]
     },
     "metadata": {},
     "output_type": "display_data"
    }
   ],
   "source": [
    "# έλεγχος ορθογωνιότητας με βρόγχο for\n",
    "for i in range(1, 5):\n",
    "    u_i = u_x_n_normalized.subs(n, i) \n",
    "    for j in range(1, 5):\n",
    "        u_j = u_x_n_normalized.subs(n, j)       \n",
    "        orthogonality = smp.integrate(u_i * u_j, (x, 0, L))\n",
    "        display(smp.Eq(smp.symbols(f\"<u_{i}|u_{j}>\"), orthogonality))"
   ]
  },
  {
   "cell_type": "code",
   "execution_count": 350,
   "id": "d4838953-8f5d-4de8-9a38-05b9206967b8",
   "metadata": {},
   "outputs": [],
   "source": [
    "import sympy as smp # Εδώ να εισάγετε τη βιβλιοθήκη SymPy\n",
    "\n",
    "class infinite_square_well:\n",
    "    def __init__(self):\n",
    "        self.x , self.L    = smp.symbols(\"x,L,\" , real = True , positive =True)\n",
    "        self.hbar , self.m = smp.symbols(\"hbar,m\" , real = True , positive =True)\n",
    "        self.B = smp.symbols(\"B\",real= True, nonzero = True)\n",
    "        self.n = smp.symbols(\"n\",integer = True , positive = True)\n",
    "        self.k0 = smp.symbols(\"k0\", real = True, negative = True )\n",
    "    #εύρεση της u(x) χωρις αρχικές συνθήκες με k0 >0 \n",
    "    def wf(self) :\n",
    "        deq = smp.Eq(u(self.x).diff(self.x,2) + self.k0**2 * u(self.x) , 0)\n",
    "        dsol = smp.dsolve(deq,u(self.x))\n",
    "        return dsol\n",
    "    \n",
    "    #ευρεση της u(x) με αρχική συνθήκη u(0) = 0 \n",
    "    def wf_0 (self):\n",
    "        deq = smp.Eq(u(self.x).diff(self.x,2) + self.k0**2 * u(self.x) , 0)\n",
    "        dsol_0 = smp.dsolve(deq,u(self.x),ics={u(0):0})\n",
    "        return dsol_0\n",
    "\n",
    "    # εύρεση της u(x) με k0<0\n",
    "    def wf_k0_negative (self) :\n",
    "       \n",
    "        deq = smp.Eq(u(self.x).diff(self.x,2) + self.k0**2 * u(self.x) , 0)\n",
    "        dsol_neg = smp.dsolve(deq,u(self.x))\n",
    "        return dsol_neg\n",
    "\n",
    "    # εύρεση της u(x) με k0<0 και με αρχική συνθήκη u(0)=0\n",
    "    def wf_k0_neg_ics(self):\n",
    "        \n",
    "        deq = smp.Eq(u(self.x).diff(self.x,2) + self.k0**2 * u(self.x) , 0)\n",
    "        dsol_0_neg = smp.dsolve(deq,u(self.x),ics={u(0):0})\n",
    "        return dsol_0_neg\n",
    "   # Ερώτηση 2\n",
    "    def k_n(self):\n",
    "        u_x = B * smp.sin(self.k0 * self.x)\n",
    "        k0_n = smp.solveset(u_x.subs(self.x,self.L),k0)\n",
    "        return k0_n\n",
    "    def k0_n(self):\n",
    "        return 2*smp.pi*self.n/self.L   \n",
    "   # Εύρεση της u(x) και της Ενέρεγειας ως προς n\n",
    "    def find_u_x_n(self):       \n",
    "        k0_n = self.k0_n()\n",
    "        u_x_n = self.B * smp.sin(k0_n * self.x)\n",
    "        return u_x_n\n",
    "    \n",
    "    def find_E_n(self):\n",
    "        k0_n = self.k0_n()\n",
    "        E_n = (k0_n**2 * self.hbar**2) / (2 * self.m)\n",
    "        return E_n\n",
    "\n",
    "    # Εύρεση σταθεράς Β \n",
    "    def find_B(self):\n",
    "        u_x_n = self.find_u_x_n()\n",
    "        I = smp.integrate(u_x_n**2,(self.x,0,self.L))\n",
    "        Bsol = smp.solve(smp.Eq(I,1),self.B)\n",
    "        return Bsol[1] # μόνο τη θετική ρίζα , δοκίμασα με [0] και είναι η αρνητική τιμή!\n",
    "\n",
    "    # Εύρεση της u(x) με γνωστ΄ό το Β ( κανονικοποιημένη)\n",
    "    def find_u_x_n_B(self):\n",
    "        Bsol = self.find_B()\n",
    "        u_x_n = self.find_u_x_n()\n",
    "        u_x_n_normalized = u_x_n.subs(self.B,Bsol)\n",
    "        return u_x_n_normalized\n",
    "    # εύρεση των E_n, u(x)_n για n = 1 , 2, 3 ,4\n",
    "    def find_u_i_E_i(self):\n",
    "        u_x_n_normalized = self.find_u_x_n_B()\n",
    "        E_n = self.find_E_n()\n",
    "        results = []\n",
    "        for i in range (1,5):\n",
    "            u_i = u_x_n_normalized.subs(self.n,i)\n",
    "            E_i = E_n.subs(self.n,i)\n",
    "            results.append((i, u_i, E_i))\n",
    "        return results\n",
    "        \n",
    "    # έλεγχος ορθογωνιότητας με βρόγχο for\n",
    "    def check_orthogonality(self):\n",
    "        u_x_n_normalized = self.find_u_x_n_B()\n",
    "        orthogonality_results = []\n",
    "        for i in range(1, 5):\n",
    "            u_i = u_x_n_normalized.subs(self.n, i) \n",
    "            for j in range(1, 5):\n",
    "                u_j = u_x_n_normalized.subs(self.n, j)       \n",
    "                orthogonality = smp.integrate(u_i * u_j, (self.x, 0, self.L))\n",
    "                orthogonality_results.append((i,j,orthogonality))\n",
    "        return orthogonality_results\n",
    "    "
   ]
  },
  {
   "cell_type": "code",
   "execution_count": 352,
   "id": "7e045a98-4446-4a5a-b180-9cbc31a89c5d",
   "metadata": {},
   "outputs": [],
   "source": [
    "well = infinite_square_well()"
   ]
  },
  {
   "cell_type": "code",
   "execution_count": 354,
   "id": "2fbf32af-47a5-42f6-9880-4f90408dc551",
   "metadata": {},
   "outputs": [
    {
     "name": "stdout",
     "output_type": "stream",
     "text": [
      "Γενική Λύση ΔΕ:\n"
     ]
    },
    {
     "data": {
      "text/latex": [
       "$\\displaystyle u{\\left(x \\right)} = C_{1} \\sin{\\left(k_{0} x \\right)} + C_{2} \\cos{\\left(k_{0} x \\right)}$"
      ],
      "text/plain": [
       "Eq(u(x), C1*sin(k0*x) + C2*cos(k0*x))"
      ]
     },
     "metadata": {},
     "output_type": "display_data"
    }
   ],
   "source": [
    "print (\"Γενική Λύση ΔΕ:\")\n",
    "display(well.wf())"
   ]
  },
  {
   "cell_type": "code",
   "execution_count": 356,
   "id": "e9660bdb-ac1c-4b6b-b416-25f730f12ebd",
   "metadata": {},
   "outputs": [
    {
     "name": "stdout",
     "output_type": "stream",
     "text": [
      "Εύρεση u(x) με αρχική συνθήκη u(0) = 0 :\n"
     ]
    },
    {
     "data": {
      "text/latex": [
       "$\\displaystyle u{\\left(x \\right)} = C_{1} \\sin{\\left(k_{0} x \\right)}$"
      ],
      "text/plain": [
       "Eq(u(x), C1*sin(k0*x))"
      ]
     },
     "metadata": {},
     "output_type": "display_data"
    }
   ],
   "source": [
    "print (\"Εύρεση u(x) με αρχική συνθήκη u(0) = 0 :\")\n",
    "display(well.wf_0())"
   ]
  },
  {
   "cell_type": "code",
   "execution_count": 358,
   "id": "96b5a767-f921-440d-9080-3388e9bd3b61",
   "metadata": {},
   "outputs": [
    {
     "name": "stdout",
     "output_type": "stream",
     "text": [
      "Εύρεση u(x) με  k0 < 0 :\n"
     ]
    },
    {
     "data": {
      "text/latex": [
       "$\\displaystyle u{\\left(x \\right)} = C_{1} \\sin{\\left(k_{0} x \\right)} + C_{2} \\cos{\\left(k_{0} x \\right)}$"
      ],
      "text/plain": [
       "Eq(u(x), C1*sin(k0*x) + C2*cos(k0*x))"
      ]
     },
     "metadata": {},
     "output_type": "display_data"
    }
   ],
   "source": [
    "print (\"Εύρεση u(x) με  k0 < 0 :\")\n",
    "display(well.wf_k0_negative())"
   ]
  },
  {
   "cell_type": "markdown",
   "id": "8149c224-b3bb-4e3e-8b3a-e926f044fb68",
   "metadata": {},
   "source": [
    "Παρατηρούμαι ότι αλλαγή του k0 σε k0<0 δεν επέφερε καμία αλλαγή στα αποτελέσματα. Στην πραγματικότητα προκύπτει ενα μείον (γιατί το sin() είναι περιττή συνάρτηση) το οποίο απορροφήθηκε από την σταθερά C1!"
   ]
  },
  {
   "cell_type": "code",
   "execution_count": 361,
   "id": "6d778350-2bdb-40da-8147-0bca55d7e038",
   "metadata": {},
   "outputs": [
    {
     "name": "stdout",
     "output_type": "stream",
     "text": [
      "Εύρεση u(x) με αρχική συνθήκη u(0) = 0 και k0 < 0 :\n"
     ]
    },
    {
     "data": {
      "text/latex": [
       "$\\displaystyle u{\\left(x \\right)} = C_{1} \\sin{\\left(k_{0} x \\right)}$"
      ],
      "text/plain": [
       "Eq(u(x), C1*sin(k0*x))"
      ]
     },
     "metadata": {},
     "output_type": "display_data"
    }
   ],
   "source": [
    "print (\"Εύρεση u(x) με αρχική συνθήκη u(0) = 0 και k0 < 0 :\")\n",
    "display(well.wf_k0_neg_ics())"
   ]
  },
  {
   "cell_type": "code",
   "execution_count": 363,
   "id": "55dcfd0f-9bb8-4fbb-abd2-26136f7b2b0d",
   "metadata": {},
   "outputs": [
    {
     "name": "stdout",
     "output_type": "stream",
     "text": [
      " Εύρεση της σταθεράς Β\n"
     ]
    },
    {
     "data": {
      "text/latex": [
       "$\\displaystyle B = \\frac{\\sqrt{2}}{\\sqrt{L}}$"
      ],
      "text/plain": [
       "Eq(B, sqrt(2)/sqrt(L))"
      ]
     },
     "metadata": {},
     "output_type": "display_data"
    }
   ],
   "source": [
    "print(\" Εύρεση της σταθεράς Β\")\n",
    "display(smp.Eq(smp.symbols(\"B\"),well.find_B()))"
   ]
  },
  {
   "cell_type": "code",
   "execution_count": 365,
   "id": "83f9ca4d-8d5e-4acc-ae85-ade51585cf05",
   "metadata": {},
   "outputs": [
    {
     "name": "stdout",
     "output_type": "stream",
     "text": [
      "Εύρεση των u(x)_n και E_n :\n"
     ]
    },
    {
     "data": {
      "text/latex": [
       "$\\displaystyle u_{1(x)} = \\frac{\\sqrt{2} \\sin{\\left(\\frac{2 \\pi x}{L} \\right)}}{\\sqrt{L}}$"
      ],
      "text/plain": [
       "Eq(u_1(x), sqrt(2)*sin(2*pi*x/L)/sqrt(L))"
      ]
     },
     "metadata": {},
     "output_type": "display_data"
    },
    {
     "data": {
      "text/latex": [
       "$\\displaystyle E_{1} = \\frac{2 \\pi^{2} \\hbar^{2}}{L^{2} m}$"
      ],
      "text/plain": [
       "Eq(E_1, 2*pi**2*hbar**2/(L**2*m))"
      ]
     },
     "metadata": {},
     "output_type": "display_data"
    },
    {
     "data": {
      "text/latex": [
       "$\\displaystyle u_{2(x)} = \\frac{\\sqrt{2} \\sin{\\left(\\frac{4 \\pi x}{L} \\right)}}{\\sqrt{L}}$"
      ],
      "text/plain": [
       "Eq(u_2(x), sqrt(2)*sin(4*pi*x/L)/sqrt(L))"
      ]
     },
     "metadata": {},
     "output_type": "display_data"
    },
    {
     "data": {
      "text/latex": [
       "$\\displaystyle E_{2} = \\frac{8 \\pi^{2} \\hbar^{2}}{L^{2} m}$"
      ],
      "text/plain": [
       "Eq(E_2, 8*pi**2*hbar**2/(L**2*m))"
      ]
     },
     "metadata": {},
     "output_type": "display_data"
    },
    {
     "data": {
      "text/latex": [
       "$\\displaystyle u_{3(x)} = \\frac{\\sqrt{2} \\sin{\\left(\\frac{6 \\pi x}{L} \\right)}}{\\sqrt{L}}$"
      ],
      "text/plain": [
       "Eq(u_3(x), sqrt(2)*sin(6*pi*x/L)/sqrt(L))"
      ]
     },
     "metadata": {},
     "output_type": "display_data"
    },
    {
     "data": {
      "text/latex": [
       "$\\displaystyle E_{3} = \\frac{18 \\pi^{2} \\hbar^{2}}{L^{2} m}$"
      ],
      "text/plain": [
       "Eq(E_3, 18*pi**2*hbar**2/(L**2*m))"
      ]
     },
     "metadata": {},
     "output_type": "display_data"
    },
    {
     "data": {
      "text/latex": [
       "$\\displaystyle u_{4(x)} = \\frac{\\sqrt{2} \\sin{\\left(\\frac{8 \\pi x}{L} \\right)}}{\\sqrt{L}}$"
      ],
      "text/plain": [
       "Eq(u_4(x), sqrt(2)*sin(8*pi*x/L)/sqrt(L))"
      ]
     },
     "metadata": {},
     "output_type": "display_data"
    },
    {
     "data": {
      "text/latex": [
       "$\\displaystyle E_{4} = \\frac{32 \\pi^{2} \\hbar^{2}}{L^{2} m}$"
      ],
      "text/plain": [
       "Eq(E_4, 32*pi**2*hbar**2/(L**2*m))"
      ]
     },
     "metadata": {},
     "output_type": "display_data"
    }
   ],
   "source": [
    "print (\"Εύρεση των u(x)_n και E_n :\")\n",
    "results = well.find_u_i_E_i()\n",
    "for n , u_n , E_n in results:\n",
    "    display(smp.Eq(smp.Symbol(f\"u_{n}(x)\"), u_n))\n",
    "    display(smp.Eq(smp.Symbol(f\"E_{n}\"), E_n))"
   ]
  },
  {
   "cell_type": "code",
   "execution_count": 367,
   "id": "8ce1b6fd-da53-46e0-a7d8-94a1dd13b24f",
   "metadata": {},
   "outputs": [
    {
     "name": "stdout",
     "output_type": "stream",
     "text": [
      "Έλεγχος της ορθοκανονικότητας:\n"
     ]
    },
    {
     "data": {
      "text/latex": [
       "$\\displaystyle <u1|u1> = 1$"
      ],
      "text/plain": [
       "Eq(<u1|u1>, 1)"
      ]
     },
     "metadata": {},
     "output_type": "display_data"
    },
    {
     "data": {
      "text/latex": [
       "$\\displaystyle <u1|u2> = 0$"
      ],
      "text/plain": [
       "Eq(<u1|u2>, 0)"
      ]
     },
     "metadata": {},
     "output_type": "display_data"
    },
    {
     "data": {
      "text/latex": [
       "$\\displaystyle <u1|u3> = 0$"
      ],
      "text/plain": [
       "Eq(<u1|u3>, 0)"
      ]
     },
     "metadata": {},
     "output_type": "display_data"
    },
    {
     "data": {
      "text/latex": [
       "$\\displaystyle <u1|u4> = 0$"
      ],
      "text/plain": [
       "Eq(<u1|u4>, 0)"
      ]
     },
     "metadata": {},
     "output_type": "display_data"
    },
    {
     "data": {
      "text/latex": [
       "$\\displaystyle <u2|u1> = 0$"
      ],
      "text/plain": [
       "Eq(<u2|u1>, 0)"
      ]
     },
     "metadata": {},
     "output_type": "display_data"
    },
    {
     "data": {
      "text/latex": [
       "$\\displaystyle <u2|u2> = 1$"
      ],
      "text/plain": [
       "Eq(<u2|u2>, 1)"
      ]
     },
     "metadata": {},
     "output_type": "display_data"
    },
    {
     "data": {
      "text/latex": [
       "$\\displaystyle <u2|u3> = 0$"
      ],
      "text/plain": [
       "Eq(<u2|u3>, 0)"
      ]
     },
     "metadata": {},
     "output_type": "display_data"
    },
    {
     "data": {
      "text/latex": [
       "$\\displaystyle <u2|u4> = 0$"
      ],
      "text/plain": [
       "Eq(<u2|u4>, 0)"
      ]
     },
     "metadata": {},
     "output_type": "display_data"
    },
    {
     "data": {
      "text/latex": [
       "$\\displaystyle <u3|u1> = 0$"
      ],
      "text/plain": [
       "Eq(<u3|u1>, 0)"
      ]
     },
     "metadata": {},
     "output_type": "display_data"
    },
    {
     "data": {
      "text/latex": [
       "$\\displaystyle <u3|u2> = 0$"
      ],
      "text/plain": [
       "Eq(<u3|u2>, 0)"
      ]
     },
     "metadata": {},
     "output_type": "display_data"
    },
    {
     "data": {
      "text/latex": [
       "$\\displaystyle <u3|u3> = 1$"
      ],
      "text/plain": [
       "Eq(<u3|u3>, 1)"
      ]
     },
     "metadata": {},
     "output_type": "display_data"
    },
    {
     "data": {
      "text/latex": [
       "$\\displaystyle <u3|u4> = 0$"
      ],
      "text/plain": [
       "Eq(<u3|u4>, 0)"
      ]
     },
     "metadata": {},
     "output_type": "display_data"
    },
    {
     "data": {
      "text/latex": [
       "$\\displaystyle <u4|u1> = 0$"
      ],
      "text/plain": [
       "Eq(<u4|u1>, 0)"
      ]
     },
     "metadata": {},
     "output_type": "display_data"
    },
    {
     "data": {
      "text/latex": [
       "$\\displaystyle <u4|u2> = 0$"
      ],
      "text/plain": [
       "Eq(<u4|u2>, 0)"
      ]
     },
     "metadata": {},
     "output_type": "display_data"
    },
    {
     "data": {
      "text/latex": [
       "$\\displaystyle <u4|u3> = 0$"
      ],
      "text/plain": [
       "Eq(<u4|u3>, 0)"
      ]
     },
     "metadata": {},
     "output_type": "display_data"
    },
    {
     "data": {
      "text/latex": [
       "$\\displaystyle <u4|u4> = 1$"
      ],
      "text/plain": [
       "Eq(<u4|u4>, 1)"
      ]
     },
     "metadata": {},
     "output_type": "display_data"
    }
   ],
   "source": [
    "print (\"Έλεγχος της ορθοκανονικότητας:\")\n",
    "orthogonality_check = well.check_orthogonality()\n",
    "for i , j , orthogonality in orthogonality_check:\n",
    "    display(smp.Eq(smp.symbols(f\"<u{i}|u{j}>\"),orthogonality))"
   ]
  },
  {
   "cell_type": "code",
   "execution_count": null,
   "id": "a2d6b728-d5cf-4f8d-9b89-df6620fafbb8",
   "metadata": {},
   "outputs": [],
   "source": []
  }
 ],
 "metadata": {
  "kernelspec": {
   "display_name": "Python [conda env:base] *",
   "language": "python",
   "name": "conda-base-py"
  },
  "language_info": {
   "codemirror_mode": {
    "name": "ipython",
    "version": 3
   },
   "file_extension": ".py",
   "mimetype": "text/x-python",
   "name": "python",
   "nbconvert_exporter": "python",
   "pygments_lexer": "ipython3",
   "version": "3.12.3"
  }
 },
 "nbformat": 4,
 "nbformat_minor": 5
}
